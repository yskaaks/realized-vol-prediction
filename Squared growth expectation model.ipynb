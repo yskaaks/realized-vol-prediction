{
 "cells": [
  {
   "cell_type": "code",
   "execution_count": 1,
   "id": "4b1aa4d5",
   "metadata": {},
   "outputs": [],
   "source": [
    "import pandas as pd\n",
    "import numpy as np"
   ]
  },
  {
   "cell_type": "markdown",
   "id": "ada7234d",
   "metadata": {},
   "source": [
    "Other packages: pyarrow"
   ]
  },
  {
   "cell_type": "code",
   "execution_count": 2,
   "id": "e139a074",
   "metadata": {},
   "outputs": [],
   "source": [
    "train = pd.read_csv(\"train.csv\")\n",
    "order_feature = pd.read_parquet(\"order_book_feature.parquet\")\n",
    "order_target = pd.read_parquet(\"order_book_target.parquet\")"
   ]
  },
  {
   "cell_type": "code",
   "execution_count": 3,
   "id": "c9693201",
   "metadata": {},
   "outputs": [
    {
     "data": {
      "text/html": [
       "<div>\n",
       "<style scoped>\n",
       "    .dataframe tbody tr th:only-of-type {\n",
       "        vertical-align: middle;\n",
       "    }\n",
       "\n",
       "    .dataframe tbody tr th {\n",
       "        vertical-align: top;\n",
       "    }\n",
       "\n",
       "    .dataframe thead th {\n",
       "        text-align: right;\n",
       "    }\n",
       "</style>\n",
       "<table border=\"1\" class=\"dataframe\">\n",
       "  <thead>\n",
       "    <tr style=\"text-align: right;\">\n",
       "      <th></th>\n",
       "      <th>time_id</th>\n",
       "      <th>stock_id</th>\n",
       "      <th>target</th>\n",
       "    </tr>\n",
       "  </thead>\n",
       "  <tbody>\n",
       "    <tr>\n",
       "      <th>0</th>\n",
       "      <td>12</td>\n",
       "      <td>8382</td>\n",
       "      <td>0.008714</td>\n",
       "    </tr>\n",
       "    <tr>\n",
       "      <th>1</th>\n",
       "      <td>12</td>\n",
       "      <td>9323</td>\n",
       "      <td>0.004731</td>\n",
       "    </tr>\n",
       "    <tr>\n",
       "      <th>2</th>\n",
       "      <td>12</td>\n",
       "      <td>22675</td>\n",
       "      <td>0.007892</td>\n",
       "    </tr>\n",
       "    <tr>\n",
       "      <th>3</th>\n",
       "      <td>12</td>\n",
       "      <td>22729</td>\n",
       "      <td>0.007427</td>\n",
       "    </tr>\n",
       "    <tr>\n",
       "      <th>4</th>\n",
       "      <td>12</td>\n",
       "      <td>22753</td>\n",
       "      <td>0.005196</td>\n",
       "    </tr>\n",
       "  </tbody>\n",
       "</table>\n",
       "</div>"
      ],
      "text/plain": [
       "   time_id  stock_id    target\n",
       "0       12      8382  0.008714\n",
       "1       12      9323  0.004731\n",
       "2       12     22675  0.007892\n",
       "3       12     22729  0.007427\n",
       "4       12     22753  0.005196"
      ]
     },
     "execution_count": 3,
     "metadata": {},
     "output_type": "execute_result"
    }
   ],
   "source": [
    "train.head()"
   ]
  },
  {
   "cell_type": "code",
   "execution_count": 4,
   "id": "6d62d477",
   "metadata": {},
   "outputs": [
    {
     "data": {
      "text/html": [
       "<div>\n",
       "<style scoped>\n",
       "    .dataframe tbody tr th:only-of-type {\n",
       "        vertical-align: middle;\n",
       "    }\n",
       "\n",
       "    .dataframe tbody tr th {\n",
       "        vertical-align: top;\n",
       "    }\n",
       "\n",
       "    .dataframe thead th {\n",
       "        text-align: right;\n",
       "    }\n",
       "</style>\n",
       "<table border=\"1\" class=\"dataframe\">\n",
       "  <thead>\n",
       "    <tr style=\"text-align: right;\">\n",
       "      <th></th>\n",
       "      <th>stock_id</th>\n",
       "      <th>time_id</th>\n",
       "      <th>seconds_in_bucket</th>\n",
       "      <th>bid_price1</th>\n",
       "      <th>ask_price1</th>\n",
       "      <th>bid_price2</th>\n",
       "      <th>ask_price2</th>\n",
       "      <th>bid_size1</th>\n",
       "      <th>ask_size1</th>\n",
       "      <th>bid_size2</th>\n",
       "      <th>ask_size2</th>\n",
       "    </tr>\n",
       "  </thead>\n",
       "  <tbody>\n",
       "    <tr>\n",
       "      <th>0</th>\n",
       "      <td>8382</td>\n",
       "      <td>12</td>\n",
       "      <td>1.0</td>\n",
       "      <td>722.17</td>\n",
       "      <td>722.63</td>\n",
       "      <td>722.15</td>\n",
       "      <td>722.64</td>\n",
       "      <td>100</td>\n",
       "      <td>25</td>\n",
       "      <td>25</td>\n",
       "      <td>20</td>\n",
       "    </tr>\n",
       "    <tr>\n",
       "      <th>1</th>\n",
       "      <td>8382</td>\n",
       "      <td>12</td>\n",
       "      <td>2.0</td>\n",
       "      <td>722.18</td>\n",
       "      <td>722.88</td>\n",
       "      <td>722.17</td>\n",
       "      <td>722.98</td>\n",
       "      <td>25</td>\n",
       "      <td>10</td>\n",
       "      <td>66</td>\n",
       "      <td>100</td>\n",
       "    </tr>\n",
       "    <tr>\n",
       "      <th>2</th>\n",
       "      <td>8382</td>\n",
       "      <td>12</td>\n",
       "      <td>3.0</td>\n",
       "      <td>722.33</td>\n",
       "      <td>722.65</td>\n",
       "      <td>722.27</td>\n",
       "      <td>722.74</td>\n",
       "      <td>25</td>\n",
       "      <td>120</td>\n",
       "      <td>200</td>\n",
       "      <td>25</td>\n",
       "    </tr>\n",
       "    <tr>\n",
       "      <th>3</th>\n",
       "      <td>8382</td>\n",
       "      <td>12</td>\n",
       "      <td>4.0</td>\n",
       "      <td>722.68</td>\n",
       "      <td>722.98</td>\n",
       "      <td>722.48</td>\n",
       "      <td>723.00</td>\n",
       "      <td>25</td>\n",
       "      <td>100</td>\n",
       "      <td>25</td>\n",
       "      <td>1</td>\n",
       "    </tr>\n",
       "    <tr>\n",
       "      <th>4</th>\n",
       "      <td>8382</td>\n",
       "      <td>12</td>\n",
       "      <td>5.0</td>\n",
       "      <td>722.52</td>\n",
       "      <td>722.96</td>\n",
       "      <td>722.42</td>\n",
       "      <td>722.97</td>\n",
       "      <td>125</td>\n",
       "      <td>20</td>\n",
       "      <td>3</td>\n",
       "      <td>110</td>\n",
       "    </tr>\n",
       "  </tbody>\n",
       "</table>\n",
       "</div>"
      ],
      "text/plain": [
       "   stock_id  time_id  seconds_in_bucket  bid_price1  ask_price1  bid_price2  \\\n",
       "0      8382       12                1.0      722.17      722.63      722.15   \n",
       "1      8382       12                2.0      722.18      722.88      722.17   \n",
       "2      8382       12                3.0      722.33      722.65      722.27   \n",
       "3      8382       12                4.0      722.68      722.98      722.48   \n",
       "4      8382       12                5.0      722.52      722.96      722.42   \n",
       "\n",
       "   ask_price2  bid_size1  ask_size1  bid_size2  ask_size2  \n",
       "0      722.64        100         25         25         20  \n",
       "1      722.98         25         10         66        100  \n",
       "2      722.74         25        120        200         25  \n",
       "3      723.00         25        100         25          1  \n",
       "4      722.97        125         20          3        110  "
      ]
     },
     "execution_count": 4,
     "metadata": {},
     "output_type": "execute_result"
    }
   ],
   "source": [
    "order_feature.head()"
   ]
  },
  {
   "cell_type": "code",
   "execution_count": 5,
   "id": "f4901b90",
   "metadata": {},
   "outputs": [],
   "source": [
    "sample_feature = order_feature[order_feature[\"time_id\"] <=20]"
   ]
  },
  {
   "cell_type": "code",
   "execution_count": 6,
   "id": "30ca125b",
   "metadata": {},
   "outputs": [],
   "source": [
    "sample_target = order_target[(order_target[\"time_id\"] <= 20) & (order_target[\"time_id\"] >= 12)]"
   ]
  },
  {
   "cell_type": "code",
   "execution_count": 7,
   "id": "5e789653",
   "metadata": {},
   "outputs": [
    {
     "name": "stderr",
     "output_type": "stream",
     "text": [
      "/var/folders/lz/81hq8_d56pjbxtvpn4bqw7hm0000gn/T/ipykernel_97151/1600001155.py:2: SettingWithCopyWarning: \n",
      "A value is trying to be set on a copy of a slice from a DataFrame.\n",
      "Try using .loc[row_indexer,col_indexer] = value instead\n",
      "\n",
      "See the caveats in the documentation: https://pandas.pydata.org/pandas-docs/stable/user_guide/indexing.html#returning-a-view-versus-a-copy\n",
      "  sample_train.target = np.square(sample_train.target)\n"
     ]
    }
   ],
   "source": [
    "sample_train = train[train[\"time_id\"] <= 20]\n",
    "sample_train.target = np.square(sample_train.target)"
   ]
  },
  {
   "cell_type": "code",
   "execution_count": 8,
   "id": "c7987a7a",
   "metadata": {},
   "outputs": [
    {
     "data": {
      "text/html": [
       "<div>\n",
       "<style scoped>\n",
       "    .dataframe tbody tr th:only-of-type {\n",
       "        vertical-align: middle;\n",
       "    }\n",
       "\n",
       "    .dataframe tbody tr th {\n",
       "        vertical-align: top;\n",
       "    }\n",
       "\n",
       "    .dataframe thead th {\n",
       "        text-align: right;\n",
       "    }\n",
       "</style>\n",
       "<table border=\"1\" class=\"dataframe\">\n",
       "  <thead>\n",
       "    <tr style=\"text-align: right;\">\n",
       "      <th></th>\n",
       "      <th>time_id</th>\n",
       "      <th>stock_id</th>\n",
       "      <th>target</th>\n",
       "    </tr>\n",
       "  </thead>\n",
       "  <tbody>\n",
       "    <tr>\n",
       "      <th>0</th>\n",
       "      <td>12</td>\n",
       "      <td>8382</td>\n",
       "      <td>0.000076</td>\n",
       "    </tr>\n",
       "    <tr>\n",
       "      <th>1</th>\n",
       "      <td>12</td>\n",
       "      <td>9323</td>\n",
       "      <td>0.000022</td>\n",
       "    </tr>\n",
       "    <tr>\n",
       "      <th>2</th>\n",
       "      <td>12</td>\n",
       "      <td>22675</td>\n",
       "      <td>0.000062</td>\n",
       "    </tr>\n",
       "    <tr>\n",
       "      <th>3</th>\n",
       "      <td>12</td>\n",
       "      <td>22729</td>\n",
       "      <td>0.000055</td>\n",
       "    </tr>\n",
       "    <tr>\n",
       "      <th>4</th>\n",
       "      <td>12</td>\n",
       "      <td>22753</td>\n",
       "      <td>0.000027</td>\n",
       "    </tr>\n",
       "  </tbody>\n",
       "</table>\n",
       "</div>"
      ],
      "text/plain": [
       "   time_id  stock_id    target\n",
       "0       12      8382  0.000076\n",
       "1       12      9323  0.000022\n",
       "2       12     22675  0.000062\n",
       "3       12     22729  0.000055\n",
       "4       12     22753  0.000027"
      ]
     },
     "execution_count": 8,
     "metadata": {},
     "output_type": "execute_result"
    }
   ],
   "source": [
    "sample_train.head()"
   ]
  },
  {
   "cell_type": "code",
   "execution_count": 9,
   "id": "7e171ab4",
   "metadata": {},
   "outputs": [
    {
     "name": "stderr",
     "output_type": "stream",
     "text": [
      "/var/folders/lz/81hq8_d56pjbxtvpn4bqw7hm0000gn/T/ipykernel_97151/3358830419.py:1: SettingWithCopyWarning: \n",
      "A value is trying to be set on a copy of a slice from a DataFrame.\n",
      "Try using .loc[row_indexer,col_indexer] = value instead\n",
      "\n",
      "See the caveats in the documentation: https://pandas.pydata.org/pandas-docs/stable/user_guide/indexing.html#returning-a-view-versus-a-copy\n",
      "  sample_feature[\"lwap\"] = np.log((sample_feature[\"bid_price1\"]*sample_feature[\"ask_size1\"] + sample_feature[\"ask_price1\"]*sample_feature[\"bid_size1\"])/(sample_feature[\"bid_size1\"]+sample_feature[\"ask_size1\"]))\n",
      "/var/folders/lz/81hq8_d56pjbxtvpn4bqw7hm0000gn/T/ipykernel_97151/3358830419.py:2: SettingWithCopyWarning: \n",
      "A value is trying to be set on a copy of a slice from a DataFrame.\n",
      "Try using .loc[row_indexer,col_indexer] = value instead\n",
      "\n",
      "See the caveats in the documentation: https://pandas.pydata.org/pandas-docs/stable/user_guide/indexing.html#returning-a-view-versus-a-copy\n",
      "  sample_feature[\"ldiff\"] = sample_feature[\"lwap\"].diff()\n"
     ]
    }
   ],
   "source": [
    "sample_feature[\"lwap\"] = np.log((sample_feature[\"bid_price1\"]*sample_feature[\"ask_size1\"] + sample_feature[\"ask_price1\"]*sample_feature[\"bid_size1\"])/(sample_feature[\"bid_size1\"]+sample_feature[\"ask_size1\"]))\n",
    "sample_feature[\"ldiff\"] = sample_feature[\"lwap\"].diff()"
   ]
  },
  {
   "cell_type": "code",
   "execution_count": 10,
   "id": "13cf1b34",
   "metadata": {},
   "outputs": [
    {
     "data": {
      "text/html": [
       "<div>\n",
       "<style scoped>\n",
       "    .dataframe tbody tr th:only-of-type {\n",
       "        vertical-align: middle;\n",
       "    }\n",
       "\n",
       "    .dataframe tbody tr th {\n",
       "        vertical-align: top;\n",
       "    }\n",
       "\n",
       "    .dataframe thead th {\n",
       "        text-align: right;\n",
       "    }\n",
       "</style>\n",
       "<table border=\"1\" class=\"dataframe\">\n",
       "  <thead>\n",
       "    <tr style=\"text-align: right;\">\n",
       "      <th></th>\n",
       "      <th>stock_id</th>\n",
       "      <th>time_id</th>\n",
       "      <th>seconds_in_bucket</th>\n",
       "      <th>bid_price1</th>\n",
       "      <th>ask_price1</th>\n",
       "      <th>bid_price2</th>\n",
       "      <th>ask_price2</th>\n",
       "      <th>bid_size1</th>\n",
       "      <th>ask_size1</th>\n",
       "      <th>bid_size2</th>\n",
       "      <th>ask_size2</th>\n",
       "      <th>lwap</th>\n",
       "      <th>ldiff</th>\n",
       "    </tr>\n",
       "  </thead>\n",
       "  <tbody>\n",
       "    <tr>\n",
       "      <th>0</th>\n",
       "      <td>8382</td>\n",
       "      <td>12</td>\n",
       "      <td>1.0</td>\n",
       "      <td>722.17</td>\n",
       "      <td>722.63</td>\n",
       "      <td>722.15</td>\n",
       "      <td>722.64</td>\n",
       "      <td>100</td>\n",
       "      <td>25</td>\n",
       "      <td>25</td>\n",
       "      <td>20</td>\n",
       "      <td>6.582770</td>\n",
       "      <td>NaN</td>\n",
       "    </tr>\n",
       "    <tr>\n",
       "      <th>1</th>\n",
       "      <td>8382</td>\n",
       "      <td>12</td>\n",
       "      <td>2.0</td>\n",
       "      <td>722.18</td>\n",
       "      <td>722.88</td>\n",
       "      <td>722.17</td>\n",
       "      <td>722.98</td>\n",
       "      <td>25</td>\n",
       "      <td>10</td>\n",
       "      <td>66</td>\n",
       "      <td>100</td>\n",
       "      <td>6.582967</td>\n",
       "      <td>0.000197</td>\n",
       "    </tr>\n",
       "    <tr>\n",
       "      <th>2</th>\n",
       "      <td>8382</td>\n",
       "      <td>12</td>\n",
       "      <td>3.0</td>\n",
       "      <td>722.33</td>\n",
       "      <td>722.65</td>\n",
       "      <td>722.27</td>\n",
       "      <td>722.74</td>\n",
       "      <td>25</td>\n",
       "      <td>120</td>\n",
       "      <td>200</td>\n",
       "      <td>25</td>\n",
       "      <td>6.582558</td>\n",
       "      <td>-0.000408</td>\n",
       "    </tr>\n",
       "    <tr>\n",
       "      <th>3</th>\n",
       "      <td>8382</td>\n",
       "      <td>12</td>\n",
       "      <td>4.0</td>\n",
       "      <td>722.68</td>\n",
       "      <td>722.98</td>\n",
       "      <td>722.48</td>\n",
       "      <td>723.00</td>\n",
       "      <td>25</td>\n",
       "      <td>100</td>\n",
       "      <td>25</td>\n",
       "      <td>1</td>\n",
       "      <td>6.583050</td>\n",
       "      <td>0.000491</td>\n",
       "    </tr>\n",
       "    <tr>\n",
       "      <th>4</th>\n",
       "      <td>8382</td>\n",
       "      <td>12</td>\n",
       "      <td>5.0</td>\n",
       "      <td>722.52</td>\n",
       "      <td>722.96</td>\n",
       "      <td>722.42</td>\n",
       "      <td>722.97</td>\n",
       "      <td>125</td>\n",
       "      <td>20</td>\n",
       "      <td>3</td>\n",
       "      <td>110</td>\n",
       "      <td>6.583270</td>\n",
       "      <td>0.000220</td>\n",
       "    </tr>\n",
       "  </tbody>\n",
       "</table>\n",
       "</div>"
      ],
      "text/plain": [
       "   stock_id  time_id  seconds_in_bucket  bid_price1  ask_price1  bid_price2  \\\n",
       "0      8382       12                1.0      722.17      722.63      722.15   \n",
       "1      8382       12                2.0      722.18      722.88      722.17   \n",
       "2      8382       12                3.0      722.33      722.65      722.27   \n",
       "3      8382       12                4.0      722.68      722.98      722.48   \n",
       "4      8382       12                5.0      722.52      722.96      722.42   \n",
       "\n",
       "   ask_price2  bid_size1  ask_size1  bid_size2  ask_size2      lwap     ldiff  \n",
       "0      722.64        100         25         25         20  6.582770       NaN  \n",
       "1      722.98         25         10         66        100  6.582967  0.000197  \n",
       "2      722.74         25        120        200         25  6.582558 -0.000408  \n",
       "3      723.00         25        100         25          1  6.583050  0.000491  \n",
       "4      722.97        125         20          3        110  6.583270  0.000220  "
      ]
     },
     "execution_count": 10,
     "metadata": {},
     "output_type": "execute_result"
    }
   ],
   "source": [
    "sample_feature.head()"
   ]
  },
  {
   "cell_type": "code",
   "execution_count": 11,
   "id": "4d053219",
   "metadata": {},
   "outputs": [
    {
     "name": "stderr",
     "output_type": "stream",
     "text": [
      "/var/folders/lz/81hq8_d56pjbxtvpn4bqw7hm0000gn/T/ipykernel_97151/199674759.py:1: SettingWithCopyWarning: \n",
      "A value is trying to be set on a copy of a slice from a DataFrame.\n",
      "Try using .loc[row_indexer,col_indexer] = value instead\n",
      "\n",
      "See the caveats in the documentation: https://pandas.pydata.org/pandas-docs/stable/user_guide/indexing.html#returning-a-view-versus-a-copy\n",
      "  sample_target[\"lwap\"] = np.log((sample_target[\"bid_price1\"]*sample_target[\"ask_size1\"] + sample_target[\"ask_price1\"]*sample_target[\"bid_size1\"])/(sample_target[\"bid_size1\"]+sample_target[\"ask_size1\"]))\n",
      "/var/folders/lz/81hq8_d56pjbxtvpn4bqw7hm0000gn/T/ipykernel_97151/199674759.py:2: SettingWithCopyWarning: \n",
      "A value is trying to be set on a copy of a slice from a DataFrame.\n",
      "Try using .loc[row_indexer,col_indexer] = value instead\n",
      "\n",
      "See the caveats in the documentation: https://pandas.pydata.org/pandas-docs/stable/user_guide/indexing.html#returning-a-view-versus-a-copy\n",
      "  sample_target[\"ldiff\"] = sample_target[\"lwap\"].diff()\n"
     ]
    }
   ],
   "source": [
    "sample_target[\"lwap\"] = np.log((sample_target[\"bid_price1\"]*sample_target[\"ask_size1\"] + sample_target[\"ask_price1\"]*sample_target[\"bid_size1\"])/(sample_target[\"bid_size1\"]+sample_target[\"ask_size1\"]))\n",
    "sample_target[\"ldiff\"] = sample_target[\"lwap\"].diff()"
   ]
  },
  {
   "cell_type": "code",
   "execution_count": 12,
   "id": "d656e5a9",
   "metadata": {},
   "outputs": [
    {
     "data": {
      "text/plain": [
       "1785"
      ]
     },
     "execution_count": 12,
     "metadata": {},
     "output_type": "execute_result"
    }
   ],
   "source": [
    "sample_target[(sample_target[\"stock_id\"] == 8382) & (sample_target[\"time_id\"] == 12)][\"ldiff\"].size"
   ]
  },
  {
   "cell_type": "code",
   "execution_count": 13,
   "id": "b2cb8614",
   "metadata": {},
   "outputs": [],
   "source": [
    "sq1 = pow(np.mean(sample_target[(sample_target[\"stock_id\"] == 8382) & (sample_target[\"time_id\"] == 12)][\"ldiff\"]),2)"
   ]
  },
  {
   "cell_type": "code",
   "execution_count": 14,
   "id": "e11ed83b",
   "metadata": {},
   "outputs": [],
   "source": [
    "va1 = np.var(sample_target[(sample_target[\"stock_id\"] == 8382) & (sample_target[\"time_id\"] == 12)][\"ldiff\"])"
   ]
  },
  {
   "cell_type": "code",
   "execution_count": 15,
   "id": "0ce73798",
   "metadata": {},
   "outputs": [
    {
     "data": {
      "text/plain": [
       "7.597218253681513e-05"
      ]
     },
     "execution_count": 15,
     "metadata": {},
     "output_type": "execute_result"
    }
   ],
   "source": [
    "sample_target[(sample_target[\"stock_id\"] == 8382) & (sample_target[\"time_id\"] == 12)][\"ldiff\"].size * (sq1 + va1)"
   ]
  },
  {
   "cell_type": "code",
   "execution_count": 16,
   "id": "7a7d7230",
   "metadata": {},
   "outputs": [
    {
     "data": {
      "text/plain": [
       "7.592962109001812e-05"
      ]
     },
     "execution_count": 16,
     "metadata": {},
     "output_type": "execute_result"
    }
   ],
   "source": [
    "sample_train.iloc[0,2]"
   ]
  },
  {
   "cell_type": "code",
   "execution_count": 17,
   "id": "20770d02",
   "metadata": {},
   "outputs": [],
   "source": [
    "sample_target.loc[sample_target[\"seconds_in_bucket\"] == 1800, [\"ldiff\"]] = 0"
   ]
  },
  {
   "cell_type": "code",
   "execution_count": 18,
   "id": "1606bdcb",
   "metadata": {},
   "outputs": [],
   "source": [
    "group_sample_target = sample_target.groupby([\"stock_id\",\"time_id\"])[\"ldiff\"].aggregate([np.var, \"mean\", \"count\"])"
   ]
  },
  {
   "cell_type": "code",
   "execution_count": 19,
   "id": "62bd4385",
   "metadata": {},
   "outputs": [],
   "source": [
    "group_sample_target[\"evol2\"] = group_sample_target[\"count\"]*(group_sample_target[\"var\"])"
   ]
  },
  {
   "cell_type": "code",
   "execution_count": 20,
   "id": "10b269fc",
   "metadata": {},
   "outputs": [
    {
     "data": {
      "text/html": [
       "<div>\n",
       "<style scoped>\n",
       "    .dataframe tbody tr th:only-of-type {\n",
       "        vertical-align: middle;\n",
       "    }\n",
       "\n",
       "    .dataframe tbody tr th {\n",
       "        vertical-align: top;\n",
       "    }\n",
       "\n",
       "    .dataframe thead th {\n",
       "        text-align: right;\n",
       "    }\n",
       "</style>\n",
       "<table border=\"1\" class=\"dataframe\">\n",
       "  <thead>\n",
       "    <tr style=\"text-align: right;\">\n",
       "      <th></th>\n",
       "      <th></th>\n",
       "      <th>var</th>\n",
       "      <th>mean</th>\n",
       "      <th>count</th>\n",
       "      <th>evol2</th>\n",
       "    </tr>\n",
       "    <tr>\n",
       "      <th>stock_id</th>\n",
       "      <th>time_id</th>\n",
       "      <th></th>\n",
       "      <th></th>\n",
       "      <th></th>\n",
       "      <th></th>\n",
       "    </tr>\n",
       "  </thead>\n",
       "  <tbody>\n",
       "    <tr>\n",
       "      <th rowspan=\"5\" valign=\"top\">8382</th>\n",
       "      <th>12</th>\n",
       "      <td>4.255703e-08</td>\n",
       "      <td>2.100064e-06</td>\n",
       "      <td>1785</td>\n",
       "      <td>0.000076</td>\n",
       "    </tr>\n",
       "    <tr>\n",
       "      <th>13</th>\n",
       "      <td>2.647541e-08</td>\n",
       "      <td>-9.272528e-07</td>\n",
       "      <td>1767</td>\n",
       "      <td>0.000047</td>\n",
       "    </tr>\n",
       "    <tr>\n",
       "      <th>14</th>\n",
       "      <td>1.551606e-08</td>\n",
       "      <td>4.947534e-07</td>\n",
       "      <td>1676</td>\n",
       "      <td>0.000026</td>\n",
       "    </tr>\n",
       "    <tr>\n",
       "      <th>15</th>\n",
       "      <td>9.637599e-09</td>\n",
       "      <td>-2.178056e-07</td>\n",
       "      <td>1741</td>\n",
       "      <td>0.000017</td>\n",
       "    </tr>\n",
       "    <tr>\n",
       "      <th>16</th>\n",
       "      <td>1.244515e-08</td>\n",
       "      <td>-1.870956e-06</td>\n",
       "      <td>1735</td>\n",
       "      <td>0.000022</td>\n",
       "    </tr>\n",
       "    <tr>\n",
       "      <th>...</th>\n",
       "      <th>...</th>\n",
       "      <td>...</td>\n",
       "      <td>...</td>\n",
       "      <td>...</td>\n",
       "      <td>...</td>\n",
       "    </tr>\n",
       "    <tr>\n",
       "      <th rowspan=\"5\" valign=\"top\">104919</th>\n",
       "      <th>16</th>\n",
       "      <td>1.441981e-09</td>\n",
       "      <td>-5.691841e-07</td>\n",
       "      <td>1798</td>\n",
       "      <td>0.000003</td>\n",
       "    </tr>\n",
       "    <tr>\n",
       "      <th>17</th>\n",
       "      <td>2.450690e-09</td>\n",
       "      <td>1.465582e-06</td>\n",
       "      <td>1800</td>\n",
       "      <td>0.000004</td>\n",
       "    </tr>\n",
       "    <tr>\n",
       "      <th>18</th>\n",
       "      <td>3.769832e-09</td>\n",
       "      <td>1.401753e-06</td>\n",
       "      <td>1800</td>\n",
       "      <td>0.000007</td>\n",
       "    </tr>\n",
       "    <tr>\n",
       "      <th>19</th>\n",
       "      <td>3.396105e-09</td>\n",
       "      <td>-8.921857e-07</td>\n",
       "      <td>1800</td>\n",
       "      <td>0.000006</td>\n",
       "    </tr>\n",
       "    <tr>\n",
       "      <th>20</th>\n",
       "      <td>2.130924e-09</td>\n",
       "      <td>-3.884631e-07</td>\n",
       "      <td>1800</td>\n",
       "      <td>0.000004</td>\n",
       "    </tr>\n",
       "  </tbody>\n",
       "</table>\n",
       "<p>90 rows × 4 columns</p>\n",
       "</div>"
      ],
      "text/plain": [
       "                           var          mean  count     evol2\n",
       "stock_id time_id                                             \n",
       "8382     12       4.255703e-08  2.100064e-06   1785  0.000076\n",
       "         13       2.647541e-08 -9.272528e-07   1767  0.000047\n",
       "         14       1.551606e-08  4.947534e-07   1676  0.000026\n",
       "         15       9.637599e-09 -2.178056e-07   1741  0.000017\n",
       "         16       1.244515e-08 -1.870956e-06   1735  0.000022\n",
       "...                        ...           ...    ...       ...\n",
       "104919   16       1.441981e-09 -5.691841e-07   1798  0.000003\n",
       "         17       2.450690e-09  1.465582e-06   1800  0.000004\n",
       "         18       3.769832e-09  1.401753e-06   1800  0.000007\n",
       "         19       3.396105e-09 -8.921857e-07   1800  0.000006\n",
       "         20       2.130924e-09 -3.884631e-07   1800  0.000004\n",
       "\n",
       "[90 rows x 4 columns]"
      ]
     },
     "execution_count": 20,
     "metadata": {},
     "output_type": "execute_result"
    }
   ],
   "source": [
    "group_sample_target"
   ]
  },
  {
   "cell_type": "code",
   "execution_count": 21,
   "id": "ddbdc725",
   "metadata": {},
   "outputs": [],
   "source": [
    "sample_deviance = (group_sample_target[\"evol2\"].values - sample_train.sort_values([\"stock_id\",\"time_id\"])[\"target\"].values)/group_sample_target[\"evol2\"].values"
   ]
  },
  {
   "cell_type": "code",
   "execution_count": 22,
   "id": "caa78fe0",
   "metadata": {},
   "outputs": [
    {
     "data": {
      "text/plain": [
       "0.02956356511638076"
      ]
     },
     "execution_count": 22,
     "metadata": {},
     "output_type": "execute_result"
    }
   ],
   "source": [
    "np.mean(sample_deviance)"
   ]
  },
  {
   "cell_type": "code",
   "execution_count": 23,
   "id": "1ffa89ec",
   "metadata": {},
   "outputs": [
    {
     "data": {
      "text/plain": [
       "1.4904640859465932e-07"
      ]
     },
     "execution_count": 23,
     "metadata": {},
     "output_type": "execute_result"
    }
   ],
   "source": [
    "np.mean(group_sample_target[\"mean\"])"
   ]
  },
  {
   "cell_type": "code",
   "execution_count": null,
   "id": "5ea6d45b",
   "metadata": {},
   "outputs": [],
   "source": []
  }
 ],
 "metadata": {
  "kernelspec": {
   "display_name": "Python 3 (ipykernel)",
   "language": "python",
   "name": "python3"
  },
  "language_info": {
   "codemirror_mode": {
    "name": "ipython",
    "version": 3
   },
   "file_extension": ".py",
   "mimetype": "text/x-python",
   "name": "python",
   "nbconvert_exporter": "python",
   "pygments_lexer": "ipython3",
   "version": "3.10.10"
  }
 },
 "nbformat": 4,
 "nbformat_minor": 5
}

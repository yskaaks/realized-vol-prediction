{
 "cells": [
  {
   "cell_type": "code",
   "execution_count": 2,
   "metadata": {},
   "outputs": [
    {
     "name": "stderr",
     "output_type": "stream",
     "text": [
      "/var/folders/lz/81hq8_d56pjbxtvpn4bqw7hm0000gn/T/ipykernel_436/1351931876.py:23: FutureWarning: Not prepending group keys to the result index of transform-like apply. In the future, the group keys will be included in the index, regardless of whether the applied function returns a like-indexed object.\n",
      "To preserve the previous behavior, use\n",
      "\n",
      "\t>>> .groupby(..., group_keys=False)\n",
      "\n",
      "To adopt the future behavior and silence this warning, use \n",
      "\n",
      "\t>>> .groupby(..., group_keys=True)\n",
      "  df_book_data['log_return'] = df_book_data.groupby(['time_id', 'stock_id'])['wap'].apply(log_return)\n"
     ]
    },
    {
     "name": "stdout",
     "output_type": "stream",
     "text": [
      "Best RMSPE score: 0.2077, with ewma_alpha: 0.9100\n",
      "Best R2 score: 0.8587, with ewma_alpha: 0.9100\n"
     ]
    }
   ],
   "source": [
    "import pandas as pd\n",
    "import numpy as np\n",
    "from sklearn.metrics import r2_score, mean_squared_error\n",
    "from sklearn.model_selection import TimeSeriesSplit\n",
    "\n",
    "# Load the data\n",
    "train = pd.read_csv('train.csv')\n",
    "book = pd.read_parquet('order_book_feature.parquet')\n",
    "\n",
    "# Calculate the weighted average price\n",
    "book['wap'] = (book['bid_price1'] * book['ask_size1'] + book['ask_price1'] * book['bid_size1']) / (book['bid_size1'] + book['ask_size1'])\n",
    "\n",
    "# Calculate log returns\n",
    "def log_return(list_stock_prices):\n",
    "    return np.log(list_stock_prices).diff()\n",
    "\n",
    "# Calculate realized volatility\n",
    "def realized_volatility(series_log_return):\n",
    "    return np.sqrt(np.sum(series_log_return**2))\n",
    "\n",
    "# Calculate realized volatility per time_id\n",
    "def realized_volatility_per_time_id(df_book_data):\n",
    "    df_book_data['log_return'] = df_book_data.groupby(['time_id', 'stock_id'])['wap'].apply(log_return)\n",
    "    df_book_data = df_book_data[~df_book_data['log_return'].isnull()]\n",
    "    df_realized_vol_per_stock = pd.DataFrame(df_book_data.groupby(['stock_id', 'time_id'])['log_return'].agg(realized_volatility)).reset_index()\n",
    "    df_realized_vol_per_stock = df_realized_vol_per_stock.rename(columns={'log_return': 'realized_vol'})\n",
    "    return df_realized_vol_per_stock\n",
    "\n",
    "df_past_realized_train = realized_volatility_per_time_id(book)\n",
    "\n",
    "# Feature Engineering: Add new features\n",
    "book['bid_ask_spread'] = (book['ask_price1'] - book['bid_price1']) / ((book['ask_price1'] + book['bid_price1']) / 2)\n",
    "book['total_size'] = book['bid_size1'] + book['ask_size1']\n",
    "\n",
    "# Calculate the average bid-ask spread and total size per stock_id and time_id\n",
    "avg_spread_size = book.groupby(['stock_id', 'time_id']).agg({'bid_ask_spread': 'mean', 'total_size': 'mean'}).reset_index()\n",
    "\n",
    "# Merge the average bid-ask spread and total size with the realized volatility\n",
    "df_past_realized_train = df_past_realized_train.merge(avg_spread_size, on=['stock_id', 'time_id'], how='left')\n",
    "\n",
    "# Find the optimal EWMA alpha\n",
    "alphas = np.arange(0.01, 1.01, 0.01)\n",
    "best_rmspe = np.inf\n",
    "best_r2 = -np.inf\n",
    "best_alpha = None\n",
    "\n",
    "def rmspe(y_true, y_pred):\n",
    "    return np.sqrt(np.mean(np.square((y_true - y_pred) / y_true)))\n",
    "\n",
    "for alpha in alphas:\n",
    "    df_past_realized_train['ewma_vol'] = df_past_realized_train.groupby('stock_id')['realized_vol'].transform(lambda x: x.ewm(alpha=alpha).mean())\n",
    "    df_joined = train.merge(df_past_realized_train, on=['stock_id', 'time_id'], how='left')\n",
    "    df_joined['prediction'] = df_joined['ewma_vol'].fillna(df_joined['realized_vol'])\n",
    "    RMSPE = rmspe(y_true=df_joined['target'], y_pred=df_joined['prediction'])\n",
    "    R2 = r2_score(y_true=df_joined['target'], y_pred=df_joined['prediction'])\n",
    "\n",
    "    if RMSPE < best_rmspe:\n",
    "        best_rmspe = RMSPE\n",
    "        best_r2 = R2\n",
    "        best_alpha = alpha\n",
    "\n",
    "print(f'Best RMSPE score: {best_rmspe:.4f}, with ewma_alpha: {best_alpha:.4f}')\n",
    "\n",
    "\n",
    "print(f'Best R2 score: {best_r2:.4f}, with ewma_alpha: {best_alpha:.4f}')\n"
   ]
  }
 ],
 "metadata": {
  "kernelspec": {
   "display_name": ".venv",
   "language": "python",
   "name": "python3"
  },
  "language_info": {
   "codemirror_mode": {
    "name": "ipython",
    "version": 3
   },
   "file_extension": ".py",
   "mimetype": "text/x-python",
   "name": "python",
   "nbconvert_exporter": "python",
   "pygments_lexer": "ipython3",
   "version": "3.10.10"
  },
  "orig_nbformat": 4
 },
 "nbformat": 4,
 "nbformat_minor": 2
}
